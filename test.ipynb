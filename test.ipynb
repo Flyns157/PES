{
 "cells": [
  {
   "cell_type": "code",
   "execution_count": 1,
   "metadata": {},
   "outputs": [
    {
     "name": "stdout",
     "output_type": "stream",
     "text": [
      "Visit this link in your browser: https://accounts.google.com/o/oauth2/v2/auth?client_id=matteo.cuisset%40gmail.com&redirect_uri=http%3A%2F%2Flocalhost%3A5000&scope=https%3A%2F%2Fwww.googleapis.com%2Fauth%2Fdrive&access_type=offline&response_type=code\n"
     ]
    },
    {
     "ename": "FlowExchangeError",
     "evalue": "invalid_requestMissing required parameter: code",
     "output_type": "error",
     "traceback": [
      "\u001b[1;31m---------------------------------------------------------------------------\u001b[0m",
      "\u001b[1;31mFlowExchangeError\u001b[0m                         Traceback (most recent call last)",
      "Cell \u001b[1;32mIn[1], line 13\u001b[0m\n\u001b[0;32m     11\u001b[0m \u001b[38;5;28mprint\u001b[39m(\u001b[38;5;124m'\u001b[39m\u001b[38;5;124mVisit this link in your browser:\u001b[39m\u001b[38;5;124m'\u001b[39m, authorize_url)\n\u001b[0;32m     12\u001b[0m code \u001b[38;5;241m=\u001b[39m \u001b[38;5;28minput\u001b[39m(\u001b[38;5;124m'\u001b[39m\u001b[38;5;124mEnter the verification code: \u001b[39m\u001b[38;5;124m'\u001b[39m)\n\u001b[1;32m---> 13\u001b[0m credentials \u001b[38;5;241m=\u001b[39m \u001b[43mflow\u001b[49m\u001b[38;5;241;43m.\u001b[39;49m\u001b[43mstep2_exchange\u001b[49m\u001b[43m(\u001b[49m\u001b[43mcode\u001b[49m\u001b[43m)\u001b[49m\n\u001b[0;32m     15\u001b[0m \u001b[38;5;66;03m# Access token that you can use to access Google APIs\u001b[39;00m\n\u001b[0;32m     16\u001b[0m access_token \u001b[38;5;241m=\u001b[39m credentials\u001b[38;5;241m.\u001b[39maccess_token\n",
      "File \u001b[1;32md:\\Personnel\\Développement\\Projets\\PES\\.venv\\Lib\\site-packages\\oauth2client\\_helpers.py:133\u001b[0m, in \u001b[0;36mpositional.<locals>.positional_decorator.<locals>.positional_wrapper\u001b[1;34m(*args, **kwargs)\u001b[0m\n\u001b[0;32m    131\u001b[0m     \u001b[38;5;28;01melif\u001b[39;00m positional_parameters_enforcement \u001b[38;5;241m==\u001b[39m POSITIONAL_WARNING:\n\u001b[0;32m    132\u001b[0m         logger\u001b[38;5;241m.\u001b[39mwarning(message)\n\u001b[1;32m--> 133\u001b[0m \u001b[38;5;28;01mreturn\u001b[39;00m \u001b[43mwrapped\u001b[49m\u001b[43m(\u001b[49m\u001b[38;5;241;43m*\u001b[39;49m\u001b[43margs\u001b[49m\u001b[43m,\u001b[49m\u001b[43m \u001b[49m\u001b[38;5;241;43m*\u001b[39;49m\u001b[38;5;241;43m*\u001b[39;49m\u001b[43mkwargs\u001b[49m\u001b[43m)\u001b[49m\n",
      "File \u001b[1;32md:\\Personnel\\Développement\\Projets\\PES\\.venv\\Lib\\site-packages\\oauth2client\\client.py:2089\u001b[0m, in \u001b[0;36mOAuth2WebServerFlow.step2_exchange\u001b[1;34m(self, code, http, device_flow_info)\u001b[0m\n\u001b[0;32m   2087\u001b[0m \u001b[38;5;28;01melse\u001b[39;00m:\n\u001b[0;32m   2088\u001b[0m     error_msg \u001b[38;5;241m=\u001b[39m \u001b[38;5;124m'\u001b[39m\u001b[38;5;124mInvalid response: \u001b[39m\u001b[38;5;132;01m{0}\u001b[39;00m\u001b[38;5;124m.\u001b[39m\u001b[38;5;124m'\u001b[39m\u001b[38;5;241m.\u001b[39mformat(\u001b[38;5;28mstr\u001b[39m(resp\u001b[38;5;241m.\u001b[39mstatus))\n\u001b[1;32m-> 2089\u001b[0m \u001b[38;5;28;01mraise\u001b[39;00m FlowExchangeError(error_msg)\n",
      "\u001b[1;31mFlowExchangeError\u001b[0m: invalid_requestMissing required parameter: code"
     ]
    }
   ],
   "source": [
    "from oauth2client.client import OAuth2WebServerFlow\n",
    "\n",
    "# Replace with your own identifiers\n",
    "client_id = 'matteo.cuisset@gmail.com'\n",
    "client_secret = 'Bb_nJsEA:B9BXe2'\n",
    "scope = 'https://www.googleapis.com/auth/drive'\n",
    "redirect_uri = 'http://localhost:5000'  # Add your redirect URI here\n",
    "\n",
    "flow = OAuth2WebServerFlow(client_id, client_secret, scope, redirect_uri=redirect_uri)\n",
    "authorize_url = flow.step1_get_authorize_url()\n",
    "print('Visit this link in your browser:', authorize_url)\n",
    "code = input('Enter the verification code: ')\n",
    "credentials = flow.step2_exchange(code)\n",
    "\n",
    "# Access token that you can use to access Google APIs\n",
    "access_token = credentials.access_token\n",
    "\n"
   ]
  },
  {
   "cell_type": "code",
   "execution_count": 2,
   "metadata": {},
   "outputs": [
    {
     "name": "stdout",
     "output_type": "stream",
     "text": [
      "Visit this link in your browser: https://accounts.google.com/o/oauth2/v2/auth?client_id=YOUR_CLIENT_ID&redirect_uri=http%3A%2F%2Flocalhost%3A5000&scope=https%3A%2F%2Fwww.googleapis.com%2Fauth&access_type=offline&response_type=code\n"
     ]
    },
    {
     "ename": "FlowExchangeError",
     "evalue": "invalid_requestMissing required parameter: code",
     "output_type": "error",
     "traceback": [
      "\u001b[1;31m---------------------------------------------------------------------------\u001b[0m",
      "\u001b[1;31mFlowExchangeError\u001b[0m                         Traceback (most recent call last)",
      "Cell \u001b[1;32mIn[2], line 13\u001b[0m\n\u001b[0;32m     11\u001b[0m \u001b[38;5;28mprint\u001b[39m(\u001b[38;5;124m'\u001b[39m\u001b[38;5;124mVisit this link in your browser:\u001b[39m\u001b[38;5;124m'\u001b[39m, authorize_url)\n\u001b[0;32m     12\u001b[0m code \u001b[38;5;241m=\u001b[39m \u001b[38;5;28minput\u001b[39m(\u001b[38;5;124m'\u001b[39m\u001b[38;5;124mEnter the verification code: \u001b[39m\u001b[38;5;124m'\u001b[39m)\n\u001b[1;32m---> 13\u001b[0m credentials \u001b[38;5;241m=\u001b[39m \u001b[43mflow\u001b[49m\u001b[38;5;241;43m.\u001b[39;49m\u001b[43mstep2_exchange\u001b[49m\u001b[43m(\u001b[49m\u001b[43mcode\u001b[49m\u001b[43m)\u001b[49m\n\u001b[0;32m     15\u001b[0m \u001b[38;5;66;03m# Access token that you can use to access Google APIs\u001b[39;00m\n\u001b[0;32m     16\u001b[0m access_token \u001b[38;5;241m=\u001b[39m credentials\u001b[38;5;241m.\u001b[39maccess_token\n",
      "File \u001b[1;32md:\\Personnel\\Développement\\Projets\\PES\\.venv\\Lib\\site-packages\\oauth2client\\_helpers.py:133\u001b[0m, in \u001b[0;36mpositional.<locals>.positional_decorator.<locals>.positional_wrapper\u001b[1;34m(*args, **kwargs)\u001b[0m\n\u001b[0;32m    131\u001b[0m     \u001b[38;5;28;01melif\u001b[39;00m positional_parameters_enforcement \u001b[38;5;241m==\u001b[39m POSITIONAL_WARNING:\n\u001b[0;32m    132\u001b[0m         logger\u001b[38;5;241m.\u001b[39mwarning(message)\n\u001b[1;32m--> 133\u001b[0m \u001b[38;5;28;01mreturn\u001b[39;00m \u001b[43mwrapped\u001b[49m\u001b[43m(\u001b[49m\u001b[38;5;241;43m*\u001b[39;49m\u001b[43margs\u001b[49m\u001b[43m,\u001b[49m\u001b[43m \u001b[49m\u001b[38;5;241;43m*\u001b[39;49m\u001b[38;5;241;43m*\u001b[39;49m\u001b[43mkwargs\u001b[49m\u001b[43m)\u001b[49m\n",
      "File \u001b[1;32md:\\Personnel\\Développement\\Projets\\PES\\.venv\\Lib\\site-packages\\oauth2client\\client.py:2089\u001b[0m, in \u001b[0;36mOAuth2WebServerFlow.step2_exchange\u001b[1;34m(self, code, http, device_flow_info)\u001b[0m\n\u001b[0;32m   2087\u001b[0m \u001b[38;5;28;01melse\u001b[39;00m:\n\u001b[0;32m   2088\u001b[0m     error_msg \u001b[38;5;241m=\u001b[39m \u001b[38;5;124m'\u001b[39m\u001b[38;5;124mInvalid response: \u001b[39m\u001b[38;5;132;01m{0}\u001b[39;00m\u001b[38;5;124m.\u001b[39m\u001b[38;5;124m'\u001b[39m\u001b[38;5;241m.\u001b[39mformat(\u001b[38;5;28mstr\u001b[39m(resp\u001b[38;5;241m.\u001b[39mstatus))\n\u001b[1;32m-> 2089\u001b[0m \u001b[38;5;28;01mraise\u001b[39;00m FlowExchangeError(error_msg)\n",
      "\u001b[1;31mFlowExchangeError\u001b[0m: invalid_requestMissing required parameter: code"
     ]
    }
   ],
   "source": [
    "from oauth2client.client import OAuth2WebServerFlow\n",
    "\n",
    "# Replace with your own identifiers\n",
    "client_id = 'YOUR_CLIENT_ID'\n",
    "client_secret = 'YOUR_CLIENT_SECRET'\n",
    "scope = 'https://www.googleapis.com/auth'\n",
    "redirect_uri = 'http://localhost:5000'  # Add your redirect URI here\n",
    "\n",
    "flow = OAuth2WebServerFlow(client_id, client_secret, scope, redirect_uri=redirect_uri)\n",
    "authorize_url = flow.step1_get_authorize_url()\n",
    "print('Visit this link in your browser:', authorize_url)\n",
    "code = input('Enter the verification code: ')\n",
    "credentials = flow.step2_exchange(code)\n",
    "\n",
    "# Access token that you can use to access Google APIs\n",
    "access_token = credentials.access_token\n",
    "\n"
   ]
  },
  {
   "cell_type": "code",
   "execution_count": 4,
   "metadata": {},
   "outputs": [
    {
     "ename": "gaierror",
     "evalue": "[Errno 11001] getaddrinfo failed",
     "output_type": "error",
     "traceback": [
      "\u001b[1;31m---------------------------------------------------------------------------\u001b[0m",
      "\u001b[1;31mgaierror\u001b[0m                                  Traceback (most recent call last)",
      "Cell \u001b[1;32mIn[4], line 28\u001b[0m\n\u001b[0;32m     26\u001b[0m \u001b[38;5;28;01mfor\u001b[39;00m email \u001b[38;5;129;01min\u001b[39;00m email_list:\n\u001b[0;32m     27\u001b[0m     msg[\u001b[38;5;124m'\u001b[39m\u001b[38;5;124mTo\u001b[39m\u001b[38;5;124m'\u001b[39m] \u001b[38;5;241m=\u001b[39m email\n\u001b[1;32m---> 28\u001b[0m     \u001b[38;5;28;01mwith\u001b[39;00m \u001b[43msmtplib\u001b[49m\u001b[38;5;241;43m.\u001b[39;49m\u001b[43mSMTP\u001b[49m\u001b[43m(\u001b[49m\u001b[43msmtp_server\u001b[49m\u001b[43m,\u001b[49m\u001b[43m \u001b[49m\u001b[43msmtp_port\u001b[49m\u001b[43m)\u001b[49m \u001b[38;5;28;01mas\u001b[39;00m server:\n\u001b[0;32m     29\u001b[0m         server\u001b[38;5;241m.\u001b[39mstarttls()\n\u001b[0;32m     30\u001b[0m         server\u001b[38;5;241m.\u001b[39mlogin(smtp_user, smtp_password)\n",
      "File \u001b[1;32mC:\\Program Files\\WindowsApps\\PythonSoftwareFoundation.Python.3.12_3.12.1008.0_x64__qbz5n2kfra8p0\\Lib\\smtplib.py:255\u001b[0m, in \u001b[0;36mSMTP.__init__\u001b[1;34m(self, host, port, local_hostname, timeout, source_address)\u001b[0m\n\u001b[0;32m    252\u001b[0m \u001b[38;5;28mself\u001b[39m\u001b[38;5;241m.\u001b[39m_auth_challenge_count \u001b[38;5;241m=\u001b[39m \u001b[38;5;241m0\u001b[39m\n\u001b[0;32m    254\u001b[0m \u001b[38;5;28;01mif\u001b[39;00m host:\n\u001b[1;32m--> 255\u001b[0m     (code, msg) \u001b[38;5;241m=\u001b[39m \u001b[38;5;28;43mself\u001b[39;49m\u001b[38;5;241;43m.\u001b[39;49m\u001b[43mconnect\u001b[49m\u001b[43m(\u001b[49m\u001b[43mhost\u001b[49m\u001b[43m,\u001b[49m\u001b[43m \u001b[49m\u001b[43mport\u001b[49m\u001b[43m)\u001b[49m\n\u001b[0;32m    256\u001b[0m     \u001b[38;5;28;01mif\u001b[39;00m code \u001b[38;5;241m!=\u001b[39m \u001b[38;5;241m220\u001b[39m:\n\u001b[0;32m    257\u001b[0m         \u001b[38;5;28mself\u001b[39m\u001b[38;5;241m.\u001b[39mclose()\n",
      "File \u001b[1;32mC:\\Program Files\\WindowsApps\\PythonSoftwareFoundation.Python.3.12_3.12.1008.0_x64__qbz5n2kfra8p0\\Lib\\smtplib.py:341\u001b[0m, in \u001b[0;36mSMTP.connect\u001b[1;34m(self, host, port, source_address)\u001b[0m\n\u001b[0;32m    339\u001b[0m     port \u001b[38;5;241m=\u001b[39m \u001b[38;5;28mself\u001b[39m\u001b[38;5;241m.\u001b[39mdefault_port\n\u001b[0;32m    340\u001b[0m sys\u001b[38;5;241m.\u001b[39maudit(\u001b[38;5;124m\"\u001b[39m\u001b[38;5;124msmtplib.connect\u001b[39m\u001b[38;5;124m\"\u001b[39m, \u001b[38;5;28mself\u001b[39m, host, port)\n\u001b[1;32m--> 341\u001b[0m \u001b[38;5;28mself\u001b[39m\u001b[38;5;241m.\u001b[39msock \u001b[38;5;241m=\u001b[39m \u001b[38;5;28;43mself\u001b[39;49m\u001b[38;5;241;43m.\u001b[39;49m\u001b[43m_get_socket\u001b[49m\u001b[43m(\u001b[49m\u001b[43mhost\u001b[49m\u001b[43m,\u001b[49m\u001b[43m \u001b[49m\u001b[43mport\u001b[49m\u001b[43m,\u001b[49m\u001b[43m \u001b[49m\u001b[38;5;28;43mself\u001b[39;49m\u001b[38;5;241;43m.\u001b[39;49m\u001b[43mtimeout\u001b[49m\u001b[43m)\u001b[49m\n\u001b[0;32m    342\u001b[0m \u001b[38;5;28mself\u001b[39m\u001b[38;5;241m.\u001b[39mfile \u001b[38;5;241m=\u001b[39m \u001b[38;5;28;01mNone\u001b[39;00m\n\u001b[0;32m    343\u001b[0m (code, msg) \u001b[38;5;241m=\u001b[39m \u001b[38;5;28mself\u001b[39m\u001b[38;5;241m.\u001b[39mgetreply()\n",
      "File \u001b[1;32mC:\\Program Files\\WindowsApps\\PythonSoftwareFoundation.Python.3.12_3.12.1008.0_x64__qbz5n2kfra8p0\\Lib\\smtplib.py:312\u001b[0m, in \u001b[0;36mSMTP._get_socket\u001b[1;34m(self, host, port, timeout)\u001b[0m\n\u001b[0;32m    310\u001b[0m \u001b[38;5;28;01mif\u001b[39;00m \u001b[38;5;28mself\u001b[39m\u001b[38;5;241m.\u001b[39mdebuglevel \u001b[38;5;241m>\u001b[39m \u001b[38;5;241m0\u001b[39m:\n\u001b[0;32m    311\u001b[0m     \u001b[38;5;28mself\u001b[39m\u001b[38;5;241m.\u001b[39m_print_debug(\u001b[38;5;124m'\u001b[39m\u001b[38;5;124mconnect: to\u001b[39m\u001b[38;5;124m'\u001b[39m, (host, port), \u001b[38;5;28mself\u001b[39m\u001b[38;5;241m.\u001b[39msource_address)\n\u001b[1;32m--> 312\u001b[0m \u001b[38;5;28;01mreturn\u001b[39;00m \u001b[43msocket\u001b[49m\u001b[38;5;241;43m.\u001b[39;49m\u001b[43mcreate_connection\u001b[49m\u001b[43m(\u001b[49m\u001b[43m(\u001b[49m\u001b[43mhost\u001b[49m\u001b[43m,\u001b[49m\u001b[43m \u001b[49m\u001b[43mport\u001b[49m\u001b[43m)\u001b[49m\u001b[43m,\u001b[49m\u001b[43m \u001b[49m\u001b[43mtimeout\u001b[49m\u001b[43m,\u001b[49m\n\u001b[0;32m    313\u001b[0m \u001b[43m                                \u001b[49m\u001b[38;5;28;43mself\u001b[39;49m\u001b[38;5;241;43m.\u001b[39;49m\u001b[43msource_address\u001b[49m\u001b[43m)\u001b[49m\n",
      "File \u001b[1;32mC:\\Program Files\\WindowsApps\\PythonSoftwareFoundation.Python.3.12_3.12.1008.0_x64__qbz5n2kfra8p0\\Lib\\socket.py:828\u001b[0m, in \u001b[0;36mcreate_connection\u001b[1;34m(address, timeout, source_address, all_errors)\u001b[0m\n\u001b[0;32m    826\u001b[0m host, port \u001b[38;5;241m=\u001b[39m address\n\u001b[0;32m    827\u001b[0m exceptions \u001b[38;5;241m=\u001b[39m []\n\u001b[1;32m--> 828\u001b[0m \u001b[38;5;28;01mfor\u001b[39;00m res \u001b[38;5;129;01min\u001b[39;00m \u001b[43mgetaddrinfo\u001b[49m\u001b[43m(\u001b[49m\u001b[43mhost\u001b[49m\u001b[43m,\u001b[49m\u001b[43m \u001b[49m\u001b[43mport\u001b[49m\u001b[43m,\u001b[49m\u001b[43m \u001b[49m\u001b[38;5;241;43m0\u001b[39;49m\u001b[43m,\u001b[49m\u001b[43m \u001b[49m\u001b[43mSOCK_STREAM\u001b[49m\u001b[43m)\u001b[49m:\n\u001b[0;32m    829\u001b[0m     af, socktype, proto, canonname, sa \u001b[38;5;241m=\u001b[39m res\n\u001b[0;32m    830\u001b[0m     sock \u001b[38;5;241m=\u001b[39m \u001b[38;5;28;01mNone\u001b[39;00m\n",
      "File \u001b[1;32mC:\\Program Files\\WindowsApps\\PythonSoftwareFoundation.Python.3.12_3.12.1008.0_x64__qbz5n2kfra8p0\\Lib\\socket.py:963\u001b[0m, in \u001b[0;36mgetaddrinfo\u001b[1;34m(host, port, family, type, proto, flags)\u001b[0m\n\u001b[0;32m    960\u001b[0m \u001b[38;5;66;03m# We override this function since we want to translate the numeric family\u001b[39;00m\n\u001b[0;32m    961\u001b[0m \u001b[38;5;66;03m# and socket type values to enum constants.\u001b[39;00m\n\u001b[0;32m    962\u001b[0m addrlist \u001b[38;5;241m=\u001b[39m []\n\u001b[1;32m--> 963\u001b[0m \u001b[38;5;28;01mfor\u001b[39;00m res \u001b[38;5;129;01min\u001b[39;00m \u001b[43m_socket\u001b[49m\u001b[38;5;241;43m.\u001b[39;49m\u001b[43mgetaddrinfo\u001b[49m\u001b[43m(\u001b[49m\u001b[43mhost\u001b[49m\u001b[43m,\u001b[49m\u001b[43m \u001b[49m\u001b[43mport\u001b[49m\u001b[43m,\u001b[49m\u001b[43m \u001b[49m\u001b[43mfamily\u001b[49m\u001b[43m,\u001b[49m\u001b[43m \u001b[49m\u001b[38;5;28;43mtype\u001b[39;49m\u001b[43m,\u001b[49m\u001b[43m \u001b[49m\u001b[43mproto\u001b[49m\u001b[43m,\u001b[49m\u001b[43m \u001b[49m\u001b[43mflags\u001b[49m\u001b[43m)\u001b[49m:\n\u001b[0;32m    964\u001b[0m     af, socktype, proto, canonname, sa \u001b[38;5;241m=\u001b[39m res\n\u001b[0;32m    965\u001b[0m     addrlist\u001b[38;5;241m.\u001b[39mappend((_intenum_converter(af, AddressFamily),\n\u001b[0;32m    966\u001b[0m                      _intenum_converter(socktype, SocketKind),\n\u001b[0;32m    967\u001b[0m                      proto, canonname, sa))\n",
      "\u001b[1;31mgaierror\u001b[0m: [Errno 11001] getaddrinfo failed"
     ]
    }
   ],
   "source": [
    "import smtplib\n",
    "from email.mime.text import MIMEText\n",
    "\n",
    "# Simulated input - replace this with the actual email addresses\n",
    "email_list = [\"gcm.proyou@gmail.com\"]\n",
    "\n",
    "# Read the content of the email from 'content.txt'\n",
    "with open('content.txt', 'r') as file:\n",
    "    email_content = file.read()\n",
    "\n",
    "# Create a MIMEText object\n",
    "msg = MIMEText(email_content)\n",
    "\n",
    "# Set email parameters\n",
    "msg['Subject'] = 'The subject of your email'\n",
    "msg['From'] = 'matteo.cuisset@gmail.com'\n",
    "# 'To' field is set inside the loop for each recipient\n",
    "\n",
    "# Email server configuration\n",
    "smtp_server = 'smtp.example.com'\n",
    "smtp_port = 587\n",
    "smtp_user = 'matteo.cuisset@gmail.com'\n",
    "smtp_password = 'Bb_nJsEA:B9BXe2'\n",
    "\n",
    "# Send the email to each address in the list\n",
    "for email in email_list:\n",
    "    msg['To'] = email\n",
    "    with smtplib.SMTP(smtp_server, smtp_port) as server:\n",
    "        server.starttls()\n",
    "        server.login(smtp_user, smtp_password)\n",
    "        server.sendmail(msg['From'], email, msg.as_string())\n",
    "\n",
    "# Print a success message\n",
    "print(\"Emails have been sent successfully.\")\n"
   ]
  },
  {
   "cell_type": "code",
   "execution_count": 5,
   "metadata": {},
   "outputs": [
    {
     "ename": "SMTPAuthenticationError",
     "evalue": "(534, b'5.7.9 Application-specific password required. For more information, go to\\n5.7.9  https://support.google.com/mail/?p=InvalidSecondFactor e2-20020adfc842000000b00346cc85c821sm16370385wrh.89 - gsmtp')",
     "output_type": "error",
     "traceback": [
      "\u001b[1;31m---------------------------------------------------------------------------\u001b[0m",
      "\u001b[1;31mSMTPAuthenticationError\u001b[0m                   Traceback (most recent call last)",
      "Cell \u001b[1;32mIn[5], line 18\u001b[0m\n\u001b[0;32m     15\u001b[0m context \u001b[38;5;241m=\u001b[39m ssl\u001b[38;5;241m.\u001b[39mcreate_default_context()\n\u001b[0;32m     16\u001b[0m \u001b[38;5;28;01mwith\u001b[39;00m smtplib\u001b[38;5;241m.\u001b[39mSMTP_SSL(smtp_address, smtp_port, context\u001b[38;5;241m=\u001b[39mcontext) \u001b[38;5;28;01mas\u001b[39;00m server:\n\u001b[0;32m     17\u001b[0m   \u001b[38;5;66;03m# connexion au compte\u001b[39;00m\n\u001b[1;32m---> 18\u001b[0m   \u001b[43mserver\u001b[49m\u001b[38;5;241;43m.\u001b[39;49m\u001b[43mlogin\u001b[49m\u001b[43m(\u001b[49m\u001b[43memail_address\u001b[49m\u001b[43m,\u001b[49m\u001b[43m \u001b[49m\u001b[43memail_password\u001b[49m\u001b[43m)\u001b[49m\n\u001b[0;32m     19\u001b[0m   \u001b[38;5;66;03m# envoi du mail\u001b[39;00m\n\u001b[0;32m     20\u001b[0m   server\u001b[38;5;241m.\u001b[39msendmail(email_address, email_receiver, \u001b[38;5;124m'\u001b[39m\u001b[38;5;124mle contenu de l\u001b[39m\u001b[38;5;130;01m\\'\u001b[39;00m\u001b[38;5;124me-mail\u001b[39m\u001b[38;5;124m'\u001b[39m)\n",
      "File \u001b[1;32mC:\\Program Files\\WindowsApps\\PythonSoftwareFoundation.Python.3.12_3.12.1008.0_x64__qbz5n2kfra8p0\\Lib\\smtplib.py:750\u001b[0m, in \u001b[0;36mSMTP.login\u001b[1;34m(self, user, password, initial_response_ok)\u001b[0m\n\u001b[0;32m    747\u001b[0m         last_exception \u001b[38;5;241m=\u001b[39m e\n\u001b[0;32m    749\u001b[0m \u001b[38;5;66;03m# We could not login successfully.  Return result of last attempt.\u001b[39;00m\n\u001b[1;32m--> 750\u001b[0m \u001b[38;5;28;01mraise\u001b[39;00m last_exception\n",
      "File \u001b[1;32mC:\\Program Files\\WindowsApps\\PythonSoftwareFoundation.Python.3.12_3.12.1008.0_x64__qbz5n2kfra8p0\\Lib\\smtplib.py:739\u001b[0m, in \u001b[0;36mSMTP.login\u001b[1;34m(self, user, password, initial_response_ok)\u001b[0m\n\u001b[0;32m    737\u001b[0m method_name \u001b[38;5;241m=\u001b[39m \u001b[38;5;124m'\u001b[39m\u001b[38;5;124mauth_\u001b[39m\u001b[38;5;124m'\u001b[39m \u001b[38;5;241m+\u001b[39m authmethod\u001b[38;5;241m.\u001b[39mlower()\u001b[38;5;241m.\u001b[39mreplace(\u001b[38;5;124m'\u001b[39m\u001b[38;5;124m-\u001b[39m\u001b[38;5;124m'\u001b[39m, \u001b[38;5;124m'\u001b[39m\u001b[38;5;124m_\u001b[39m\u001b[38;5;124m'\u001b[39m)\n\u001b[0;32m    738\u001b[0m \u001b[38;5;28;01mtry\u001b[39;00m:\n\u001b[1;32m--> 739\u001b[0m     (code, resp) \u001b[38;5;241m=\u001b[39m \u001b[38;5;28;43mself\u001b[39;49m\u001b[38;5;241;43m.\u001b[39;49m\u001b[43mauth\u001b[49m\u001b[43m(\u001b[49m\n\u001b[0;32m    740\u001b[0m \u001b[43m        \u001b[49m\u001b[43mauthmethod\u001b[49m\u001b[43m,\u001b[49m\u001b[43m \u001b[49m\u001b[38;5;28;43mgetattr\u001b[39;49m\u001b[43m(\u001b[49m\u001b[38;5;28;43mself\u001b[39;49m\u001b[43m,\u001b[49m\u001b[43m \u001b[49m\u001b[43mmethod_name\u001b[49m\u001b[43m)\u001b[49m\u001b[43m,\u001b[49m\n\u001b[0;32m    741\u001b[0m \u001b[43m        \u001b[49m\u001b[43minitial_response_ok\u001b[49m\u001b[38;5;241;43m=\u001b[39;49m\u001b[43minitial_response_ok\u001b[49m\u001b[43m)\u001b[49m\n\u001b[0;32m    742\u001b[0m     \u001b[38;5;66;03m# 235 == 'Authentication successful'\u001b[39;00m\n\u001b[0;32m    743\u001b[0m     \u001b[38;5;66;03m# 503 == 'Error: already authenticated'\u001b[39;00m\n\u001b[0;32m    744\u001b[0m     \u001b[38;5;28;01mif\u001b[39;00m code \u001b[38;5;129;01min\u001b[39;00m (\u001b[38;5;241m235\u001b[39m, \u001b[38;5;241m503\u001b[39m):\n",
      "File \u001b[1;32mC:\\Program Files\\WindowsApps\\PythonSoftwareFoundation.Python.3.12_3.12.1008.0_x64__qbz5n2kfra8p0\\Lib\\smtplib.py:662\u001b[0m, in \u001b[0;36mSMTP.auth\u001b[1;34m(self, mechanism, authobject, initial_response_ok)\u001b[0m\n\u001b[0;32m    660\u001b[0m \u001b[38;5;28;01mif\u001b[39;00m code \u001b[38;5;129;01min\u001b[39;00m (\u001b[38;5;241m235\u001b[39m, \u001b[38;5;241m503\u001b[39m):\n\u001b[0;32m    661\u001b[0m     \u001b[38;5;28;01mreturn\u001b[39;00m (code, resp)\n\u001b[1;32m--> 662\u001b[0m \u001b[38;5;28;01mraise\u001b[39;00m SMTPAuthenticationError(code, resp)\n",
      "\u001b[1;31mSMTPAuthenticationError\u001b[0m: (534, b'5.7.9 Application-specific password required. For more information, go to\\n5.7.9  https://support.google.com/mail/?p=InvalidSecondFactor e2-20020adfc842000000b00346cc85c821sm16370385wrh.89 - gsmtp')"
     ]
    }
   ],
   "source": [
    "import smtplib, ssl\n",
    "\n",
    "# on rentre les renseignements pris sur le site du fournisseur\n",
    "smtp_address = 'smtp.gmail.com'\n",
    "smtp_port = 465\n",
    "\n",
    "# on rentre les informations sur notre adresse e-mail\n",
    "email_address = 'matteo.cuisset@gmail.com'\n",
    "email_password = 'Bb_nJsEA:B9BXe2'\n",
    "\n",
    "# on rentre les informations sur le destinataire\n",
    "email_receiver = 'gcm.proyou@gmail.com'\n",
    "\n",
    "# on crée la connexion\n",
    "context = ssl.create_default_context()\n",
    "with smtplib.SMTP_SSL(smtp_address, smtp_port, context=context) as server:\n",
    "  # connexion au compte\n",
    "  server.login(email_address, email_password)\n",
    "  # envoi du mail\n",
    "  server.sendmail(email_address, email_receiver, 'le contenu de l\\'e-mail')"
   ]
  },
  {
   "cell_type": "code",
   "execution_count": null,
   "metadata": {},
   "outputs": [],
   "source": [
    "import smtplib, ssl\n",
    "\n",
    "# on rentre les renseignements pris sur le site du fournisseur\n",
    "smtp_address = 'smtp.gmail.com'\n",
    "smtp_port = 465\n",
    "\n",
    "# on rentre les informations sur notre adresse e-mail\n",
    "email_address = 'matteo.cuisset@gmail.com'\n",
    "email_password = 'Bb_nJsEA:B9BXe2'\n",
    "\n",
    "# on rentre les informations sur le destinataire\n",
    "email_receiver = 'gcm.proyou@gmail.com'\n",
    "\n",
    "# on crée la connexion\n",
    "context = ssl.create_default_context()\n",
    "with smtplib.SMTP_SSL(smtp_address, smtp_port, context=context) as server:\n",
    "  # connexion au compte\n",
    "  server.login(email_address, email_password)\n",
    "  # envoi du mail\n",
    "  server.sendmail(email_address, email_receiver, 'le contenu de l\\'e-mail')"
   ]
  },
  {
   "cell_type": "code",
   "execution_count": null,
   "metadata": {},
   "outputs": [],
   "source": [
    "from email.mime.text import MIMEText\n",
    "from email.mime.multipart import MIMEMultipart\n",
    "\n",
    "# on crée un e-mail\n",
    "message = MIMEMultipart(\"alternative\")\n",
    "# on ajoute un sujet\n",
    "message[\"Subject\"] = \"[DataScientest] e-mail essai\"\n",
    "# un émetteur\n",
    "message[\"From\"] = email_address\n",
    "# un destinataire\n",
    "message[\"To\"] = email_receiver\n",
    "\n",
    "# on crée un texte et sa version HTML\n",
    "texte = '''\n",
    "Bonjour \n",
    "Ma super newsletter\n",
    "Cdt\n",
    "mon_lien_incroyable\n",
    "'''\n",
    "\n",
    "html = '''\n",
    "<html>\n",
    "<body>\n",
    "<h1>Bonjour</h1>\n",
    "<p>Ma super newsletter</p>\n",
    "<b>Cdt</b>\n",
    "<br>\n",
    "<a href=\"https://datascientest.com\">mon_lien_incroyable</a>\n",
    "</body>\n",
    "</html>\n",
    "'''\n",
    "\n",
    "# on crée deux éléments MIMEText \n",
    "texte_mime = MIMEText(texte, 'plain')\n",
    "html_mime = MIMEText(html, 'html')\n",
    "\n",
    "# on attache ces deux éléments \n",
    "message.attach(texte_mime)\n",
    "message.attach(html_mime)\n",
    "\n",
    "# on crée la connexion\n",
    "context = ssl.create_default_context()\n",
    "with smtplib.SMTP_SSL(smtp_address, smtp_port, context=context) as server:\n",
    "  # connexion au compte\n",
    "  server.login(email_address, email_password)\n",
    "  # envoi du mail\n",
    "  server.sendmail(email_address, email_receiver, message.as_string())"
   ]
  }
 ],
 "metadata": {
  "kernelspec": {
   "display_name": ".venv",
   "language": "python",
   "name": "python3"
  },
  "language_info": {
   "codemirror_mode": {
    "name": "ipython",
    "version": 3
   },
   "file_extension": ".py",
   "mimetype": "text/x-python",
   "name": "python",
   "nbconvert_exporter": "python",
   "pygments_lexer": "ipython3",
   "version": "3.12.3"
  }
 },
 "nbformat": 4,
 "nbformat_minor": 2
}
